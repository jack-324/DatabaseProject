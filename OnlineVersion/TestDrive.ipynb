{
 "cells": [
  {
   "cell_type": "code",
   "execution_count": 1,
   "id": "32d2f619-da44-46ee-9853-0e70a45f12bd",
   "metadata": {
    "tags": []
   },
   "outputs": [],
   "source": [
    "import ClientModule\n",
    "import GenTestDataBase\n",
    "import ImportModule\n",
    "import ServerFunctions"
   ]
  },
  {
   "cell_type": "code",
   "execution_count": 12,
   "id": "07a8f7fc-2331-445d-9746-ba0dd15bb711",
   "metadata": {
    "tags": []
   },
   "outputs": [
    {
     "ename": "DuplicateTable",
     "evalue": "relation \"pracownicy\" already exists",
     "output_type": "error",
     "traceback": [
      "\u001b[0;31m---------------------------------------------------------------------------\u001b[0m",
      "\u001b[0;31mDuplicateTable\u001b[0m                            Traceback (most recent call last)",
      "Cell \u001b[0;32mIn[12], line 1\u001b[0m\n\u001b[0;32m----> 1\u001b[0m \u001b[43mGenTestDataBase\u001b[49m\u001b[38;5;241;43m.\u001b[39;49m\u001b[43mGenerateStructure\u001b[49m\u001b[43m(\u001b[49m\u001b[43m)\u001b[49m\n",
      "File \u001b[0;32m~/003-ZADANIA/Lista3/V3/GenTestDataBase.py:50\u001b[0m, in \u001b[0;36mGenerateStructure\u001b[0;34m()\u001b[0m\n\u001b[1;32m     43\u001b[0m connection \u001b[38;5;241m=\u001b[39m psycopg\u001b[38;5;241m.\u001b[39mconnect(\n\u001b[1;32m     44\u001b[0m          host\u001b[38;5;241m=\u001b[39mcreds[\u001b[38;5;124m'\u001b[39m\u001b[38;5;124mhost\u001b[39m\u001b[38;5;124m'\u001b[39m],\n\u001b[1;32m     45\u001b[0m          user\u001b[38;5;241m=\u001b[39mcreds[\u001b[38;5;124m'\u001b[39m\u001b[38;5;124muser\u001b[39m\u001b[38;5;124m'\u001b[39m],\n\u001b[1;32m     46\u001b[0m          dbname\u001b[38;5;241m=\u001b[39mcreds[\u001b[38;5;124m'\u001b[39m\u001b[38;5;124mdbname\u001b[39m\u001b[38;5;124m'\u001b[39m],\n\u001b[1;32m     47\u001b[0m          password\u001b[38;5;241m=\u001b[39mcreds[\u001b[38;5;124m'\u001b[39m\u001b[38;5;124mpasswd\u001b[39m\u001b[38;5;124m'\u001b[39m],\n\u001b[1;32m     48\u001b[0m          port\u001b[38;5;241m=\u001b[39mcreds[\u001b[38;5;124m'\u001b[39m\u001b[38;5;124mport\u001b[39m\u001b[38;5;124m'\u001b[39m])\n\u001b[1;32m     49\u001b[0m c \u001b[38;5;241m=\u001b[39m connection\u001b[38;5;241m.\u001b[39mcursor()\n\u001b[0;32m---> 50\u001b[0m \u001b[43mc\u001b[49m\u001b[38;5;241;43m.\u001b[39;49m\u001b[43mexecute\u001b[49m\u001b[43m(\u001b[49m\u001b[38;5;124;43m\"\"\"\u001b[39;49m\u001b[38;5;124;43mCREATE TABLE Pracownicy(ID_pracownika SERIAL PRIMARY KEY, Imie varchar(64), Nazwisko varchar(64), Data_zatrudnienia TIMESTAMP, Is_zatrudniony int);\u001b[39;49m\u001b[38;5;124;43m\"\"\"\u001b[39;49m\u001b[43m)\u001b[49m\n\u001b[1;32m     51\u001b[0m c\u001b[38;5;241m.\u001b[39mexecute(\u001b[38;5;124m\"\"\"\u001b[39m\u001b[38;5;124mCREATE TABLE Produkty(ID_produktu SERIAL PRIMARY KEY ,Nazwa varchar(128),Ilosc int, opis varchar(512),kod_kreskowy varchar(16) UNIQUE, ID_pracownika int REFERENCES Pracownicy(ID_pracownika), Data_pomiaru TIMESTAMP);\u001b[39m\u001b[38;5;124m\"\"\"\u001b[39m)\n\u001b[1;32m     52\u001b[0m c\u001b[38;5;241m.\u001b[39mexecute(\u001b[38;5;124m\"\"\"\u001b[39m\u001b[38;5;124mINSERT INTO Pracownicy (Imie,Nazwisko,Data_zatrudnienia,Is_zatrudniony) VALUES (\u001b[39m\u001b[38;5;124m'\u001b[39m\u001b[38;5;124mSystem\u001b[39m\u001b[38;5;124m'\u001b[39m\u001b[38;5;124m, \u001b[39m\u001b[38;5;124m'\u001b[39m\u001b[38;5;124mSystem\u001b[39m\u001b[38;5;124m'\u001b[39m\u001b[38;5;124m, CURRENT_TIMESTAMP, 1);\u001b[39m\u001b[38;5;124m\"\"\"\u001b[39m) \u001b[38;5;66;03m#System\u001b[39;00m\n",
      "File \u001b[0;32m/home/jupyter/.cache/pypoetry/virtualenvs/dbms1-JBtNm320-py3.11/lib/python3.11/site-packages/psycopg/cursor.py:723\u001b[0m, in \u001b[0;36mCursor.execute\u001b[0;34m(self, query, params, prepare, binary)\u001b[0m\n\u001b[1;32m    719\u001b[0m         \u001b[38;5;28mself\u001b[39m\u001b[38;5;241m.\u001b[39m_conn\u001b[38;5;241m.\u001b[39mwait(\n\u001b[1;32m    720\u001b[0m             \u001b[38;5;28mself\u001b[39m\u001b[38;5;241m.\u001b[39m_execute_gen(query, params, prepare\u001b[38;5;241m=\u001b[39mprepare, binary\u001b[38;5;241m=\u001b[39mbinary)\n\u001b[1;32m    721\u001b[0m         )\n\u001b[1;32m    722\u001b[0m \u001b[38;5;28;01mexcept\u001b[39;00m e\u001b[38;5;241m.\u001b[39mError \u001b[38;5;28;01mas\u001b[39;00m ex:\n\u001b[0;32m--> 723\u001b[0m     \u001b[38;5;28;01mraise\u001b[39;00m ex\u001b[38;5;241m.\u001b[39mwith_traceback(\u001b[38;5;28;01mNone\u001b[39;00m)\n\u001b[1;32m    724\u001b[0m \u001b[38;5;28;01mreturn\u001b[39;00m \u001b[38;5;28mself\u001b[39m\n",
      "\u001b[0;31mDuplicateTable\u001b[0m: relation \"pracownicy\" already exists"
     ]
    }
   ],
   "source": [
    "GenTestDataBase.GenerateStructure()"
   ]
  },
  {
   "cell_type": "code",
   "execution_count": 3,
   "id": "7e4449e8-7660-4b25-b8fb-a87536f2f8d0",
   "metadata": {
    "tags": []
   },
   "outputs": [
    {
     "ename": "UniqueViolation",
     "evalue": "duplicate key value violates unique constraint \"produkty_kod_kreskowy_key\"\nDETAIL:  Key (kod_kreskowy)=(5901520000059) already exists.",
     "output_type": "error",
     "traceback": [
      "\u001b[0;31m---------------------------------------------------------------------------\u001b[0m",
      "\u001b[0;31mUniqueViolation\u001b[0m                           Traceback (most recent call last)",
      "Cell \u001b[0;32mIn[3], line 1\u001b[0m\n\u001b[0;32m----> 1\u001b[0m \u001b[43mGenTestDataBase\u001b[49m\u001b[38;5;241;43m.\u001b[39;49m\u001b[43mFillTestData\u001b[49m\u001b[43m(\u001b[49m\u001b[43m)\u001b[49m\n",
      "File \u001b[0;32m~/003-ZADANIA/Lista3/V3/GenTestDataBase.py:37\u001b[0m, in \u001b[0;36mFillTestData\u001b[0;34m()\u001b[0m\n\u001b[1;32m     30\u001b[0m connection \u001b[38;5;241m=\u001b[39m psycopg\u001b[38;5;241m.\u001b[39mconnect(\n\u001b[1;32m     31\u001b[0m          host\u001b[38;5;241m=\u001b[39mcreds[\u001b[38;5;124m'\u001b[39m\u001b[38;5;124mhost\u001b[39m\u001b[38;5;124m'\u001b[39m],\n\u001b[1;32m     32\u001b[0m          user\u001b[38;5;241m=\u001b[39mcreds[\u001b[38;5;124m'\u001b[39m\u001b[38;5;124muser\u001b[39m\u001b[38;5;124m'\u001b[39m],\n\u001b[1;32m     33\u001b[0m          dbname\u001b[38;5;241m=\u001b[39mcreds[\u001b[38;5;124m'\u001b[39m\u001b[38;5;124mdbname\u001b[39m\u001b[38;5;124m'\u001b[39m],\n\u001b[1;32m     34\u001b[0m          password\u001b[38;5;241m=\u001b[39mcreds[\u001b[38;5;124m'\u001b[39m\u001b[38;5;124mpasswd\u001b[39m\u001b[38;5;124m'\u001b[39m],\n\u001b[1;32m     35\u001b[0m          port\u001b[38;5;241m=\u001b[39mcreds[\u001b[38;5;124m'\u001b[39m\u001b[38;5;124mport\u001b[39m\u001b[38;5;124m'\u001b[39m])\n\u001b[1;32m     36\u001b[0m c \u001b[38;5;241m=\u001b[39m connection\u001b[38;5;241m.\u001b[39mcursor()\n\u001b[0;32m---> 37\u001b[0m \u001b[43mc\u001b[49m\u001b[38;5;241;43m.\u001b[39;49m\u001b[43mexecute\u001b[49m\u001b[43m(\u001b[49m\u001b[38;5;124;43m\"\"\"\u001b[39;49m\u001b[38;5;124;43mINSERT INTO Produkty (Nazwa,ilosc,opis,kod_kreskowy,ID_pracownika,Data_pomiaru) VALUES(\u001b[39;49m\u001b[38;5;124;43m'\u001b[39;49m\u001b[38;5;124;43mWoda gazowana Muszynianka\u001b[39;49m\u001b[38;5;124;43m'\u001b[39;49m\u001b[38;5;124;43m,1,\u001b[39;49m\u001b[38;5;124;43m'\u001b[39;49m\u001b[38;5;124;43m'\u001b[39;49m\u001b[38;5;124;43m,\u001b[39;49m\u001b[38;5;124;43m'\u001b[39;49m\u001b[38;5;124;43m5901520000059\u001b[39;49m\u001b[38;5;124;43m'\u001b[39;49m\u001b[38;5;124;43m,1,CURRENT_TIMESTAMP);\u001b[39;49m\u001b[38;5;124;43m\"\"\"\u001b[39;49m\u001b[43m)\u001b[49m\n\u001b[1;32m     38\u001b[0m c\u001b[38;5;241m.\u001b[39mexecute(\u001b[38;5;124m\"\"\"\u001b[39m\u001b[38;5;124mINSERT INTO Pracownicy (Imie,Nazwisko,Data_zatrudnienia,Is_zatrudniony) VALUES (\u001b[39m\u001b[38;5;124m'\u001b[39m\u001b[38;5;124mJanek\u001b[39m\u001b[38;5;124m'\u001b[39m\u001b[38;5;124m, \u001b[39m\u001b[38;5;124m'\u001b[39m\u001b[38;5;124mFrankowski\u001b[39m\u001b[38;5;124m'\u001b[39m\u001b[38;5;124m, CURRENT_TIMESTAMP, 1);\u001b[39m\u001b[38;5;124m\"\"\"\u001b[39m)\n\u001b[1;32m     39\u001b[0m c\u001b[38;5;241m.\u001b[39mexecute(\u001b[38;5;124m\"\u001b[39m\u001b[38;5;124mCOMMIT\u001b[39m\u001b[38;5;124m\"\u001b[39m)\n",
      "File \u001b[0;32m/home/jupyter/.cache/pypoetry/virtualenvs/dbms1-JBtNm320-py3.11/lib/python3.11/site-packages/psycopg/cursor.py:723\u001b[0m, in \u001b[0;36mCursor.execute\u001b[0;34m(self, query, params, prepare, binary)\u001b[0m\n\u001b[1;32m    719\u001b[0m         \u001b[38;5;28mself\u001b[39m\u001b[38;5;241m.\u001b[39m_conn\u001b[38;5;241m.\u001b[39mwait(\n\u001b[1;32m    720\u001b[0m             \u001b[38;5;28mself\u001b[39m\u001b[38;5;241m.\u001b[39m_execute_gen(query, params, prepare\u001b[38;5;241m=\u001b[39mprepare, binary\u001b[38;5;241m=\u001b[39mbinary)\n\u001b[1;32m    721\u001b[0m         )\n\u001b[1;32m    722\u001b[0m \u001b[38;5;28;01mexcept\u001b[39;00m e\u001b[38;5;241m.\u001b[39mError \u001b[38;5;28;01mas\u001b[39;00m ex:\n\u001b[0;32m--> 723\u001b[0m     \u001b[38;5;28;01mraise\u001b[39;00m ex\u001b[38;5;241m.\u001b[39mwith_traceback(\u001b[38;5;28;01mNone\u001b[39;00m)\n\u001b[1;32m    724\u001b[0m \u001b[38;5;28;01mreturn\u001b[39;00m \u001b[38;5;28mself\u001b[39m\n",
      "\u001b[0;31mUniqueViolation\u001b[0m: duplicate key value violates unique constraint \"produkty_kod_kreskowy_key\"\nDETAIL:  Key (kod_kreskowy)=(5901520000059) already exists."
     ]
    }
   ],
   "source": [
    "GenTestDataBase.FillTestData()"
   ]
  },
  {
   "cell_type": "code",
   "execution_count": 2,
   "id": "51da6a5b-6489-4489-9d74-54b617acdb64",
   "metadata": {
    "tags": []
   },
   "outputs": [
    {
     "name": "stdout",
     "output_type": "stream",
     "text": [
      "Import pomyslny!\n"
     ]
    }
   ],
   "source": [
    "ImportModule.ImportFileModule(\"dane-do-exportu3.csv\")"
   ]
  },
  {
   "cell_type": "code",
   "execution_count": 4,
   "id": "4d04a0f2-6707-423e-9873-9c9ac8e8e5ee",
   "metadata": {
    "tags": []
   },
   "outputs": [
    {
     "name": "stdout",
     "output_type": "stream",
     "text": [
      "Menu wyboru:\n",
      "        1.Pokaz wszystkie produkty (Tylko nazwa i ilosc)\n",
      "        2.Zarzadzanie produktami\n",
      "        3.Zarzadzanie pracownikami\n",
      "        4.Drop_Table\n",
      "        0.Wyjscie\n"
     ]
    },
    {
     "name": "stdin",
     "output_type": "stream",
     "text": [
      "Podaj wybor: 3\n"
     ]
    },
    {
     "name": "stdout",
     "output_type": "stream",
     "text": [
      "Edycja pracowników:\n",
      "    1.Wypisz dane o pracowniku o podanym ID\n",
      "    2.Wypisz dane o wszystkich pracownikach\n",
      "    3.Wypisz dane o pracowniku o podanym Nazwisku\n",
      "    4.Zwolnij pracownika o podanym ID\n",
      "    5.Wypisz dane o wszystkich obecnie zatrudnionych pracownikach\n",
      "    6.Zatrudnij pracownika\n",
      "    0.Powrot\n"
     ]
    },
    {
     "name": "stdin",
     "output_type": "stream",
     "text": [
      "Podaj wybor: 0\n"
     ]
    },
    {
     "name": "stdout",
     "output_type": "stream",
     "text": [
      "Menu wyboru:\n",
      "        1.Pokaz wszystkie produkty (Tylko nazwa i ilosc)\n",
      "        2.Zarzadzanie produktami\n",
      "        3.Zarzadzanie pracownikami\n",
      "        4.Drop_Table\n",
      "        0.Wyjscie\n"
     ]
    },
    {
     "name": "stdin",
     "output_type": "stream",
     "text": [
      "Podaj wybor: 0\n"
     ]
    },
    {
     "name": "stdout",
     "output_type": "stream",
     "text": [
      "Rozlaczono z baza!\n"
     ]
    }
   ],
   "source": [
    "ServerFunctions.ServerManagment()"
   ]
  },
  {
   "cell_type": "code",
   "execution_count": null,
   "id": "a946d728-20ef-4f02-a5c9-38762880207a",
   "metadata": {},
   "outputs": [],
   "source": []
  },
  {
   "cell_type": "code",
   "execution_count": null,
   "id": "efd809d1-7ec4-4e9e-826b-a5849ae208d8",
   "metadata": {},
   "outputs": [],
   "source": []
  }
 ],
 "metadata": {
  "kernelspec": {
   "display_name": "DBMS1 (SQLAlchemy)",
   "language": "python",
   "name": "dbms1"
  },
  "language_info": {
   "codemirror_mode": {
    "name": "ipython",
    "version": 3
   },
   "file_extension": ".py",
   "mimetype": "text/x-python",
   "name": "python",
   "nbconvert_exporter": "python",
   "pygments_lexer": "ipython3",
   "version": "3.11.2"
  }
 },
 "nbformat": 4,
 "nbformat_minor": 5
}
